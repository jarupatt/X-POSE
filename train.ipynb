{
 "cells": [
  {
   "cell_type": "code",
   "execution_count": 2,
   "id": "cf535e00-b7d5-44a0-9c14-7081207a824d",
   "metadata": {
    "scrolled": true
   },
   "outputs": [
    {
     "name": "stdout",
     "output_type": "stream",
     "text": [
      "Requirement already satisfied: img2vec-pytorch in c:\\users\\ideapad gaming\\anaconda3\\lib\\site-packages (1.0.1)\n",
      "Requirement already satisfied: torch in c:\\users\\ideapad gaming\\anaconda3\\lib\\site-packages (from img2vec-pytorch) (2.5.0)\n",
      "Requirement already satisfied: torchvision in c:\\users\\ideapad gaming\\anaconda3\\lib\\site-packages (from img2vec-pytorch) (0.20.0)\n",
      "Requirement already satisfied: numpy in c:\\users\\ideapad gaming\\anaconda3\\lib\\site-packages (from img2vec-pytorch) (1.26.4)\n",
      "Requirement already satisfied: filelock in c:\\users\\ideapad gaming\\anaconda3\\lib\\site-packages (from torch->img2vec-pytorch) (3.13.1)\n",
      "Requirement already satisfied: typing-extensions>=4.8.0 in c:\\users\\ideapad gaming\\anaconda3\\lib\\site-packages (from torch->img2vec-pytorch) (4.9.0)\n",
      "Requirement already satisfied: networkx in c:\\users\\ideapad gaming\\anaconda3\\lib\\site-packages (from torch->img2vec-pytorch) (3.1)\n",
      "Requirement already satisfied: jinja2 in c:\\users\\ideapad gaming\\anaconda3\\lib\\site-packages (from torch->img2vec-pytorch) (3.1.3)\n",
      "Requirement already satisfied: fsspec in c:\\users\\ideapad gaming\\anaconda3\\lib\\site-packages (from torch->img2vec-pytorch) (2023.10.0)\n",
      "Requirement already satisfied: sympy==1.13.1 in c:\\users\\ideapad gaming\\anaconda3\\lib\\site-packages (from torch->img2vec-pytorch) (1.13.1)\n",
      "Requirement already satisfied: mpmath<1.4,>=1.1.0 in c:\\users\\ideapad gaming\\anaconda3\\lib\\site-packages (from sympy==1.13.1->torch->img2vec-pytorch) (1.3.0)\n",
      "Requirement already satisfied: pillow!=8.3.*,>=5.3.0 in c:\\users\\ideapad gaming\\anaconda3\\lib\\site-packages (from torchvision->img2vec-pytorch) (10.2.0)\n",
      "Requirement already satisfied: MarkupSafe>=2.0 in c:\\users\\ideapad gaming\\anaconda3\\lib\\site-packages (from jinja2->torch->img2vec-pytorch) (2.1.3)\n",
      "Note: you may need to restart the kernel to use updated packages.\n"
     ]
    }
   ],
   "source": [
    "%pip install img2vec-pytorch\n",
    "import os\n",
    "import pickle\n",
    "\n",
    "from img2vec_pytorch import Img2Vec\n",
    "from PIL import Image\n",
    "from sklearn.ensemble import RandomForestClassifier\n",
    "from sklearn.metrics import accuracy_score\n",
    "\n",
    "\n",
    "# prepare data\n",
    "\n",
    "img2vec = Img2Vec()\n",
    "\n",
    "data_dir = './data2'\n",
    "train_dir = os.path.join(data_dir, 'train')\n",
    "val_dir = os.path.join(data_dir, 'val')\n",
    "\n",
    "data = {}\n"
   ]
  },
  {
   "cell_type": "code",
   "execution_count": 4,
   "id": "9e488840-c81a-4bbd-a17c-c78d260ceed9",
   "metadata": {},
   "outputs": [
    {
     "data": {
      "text/html": [
       "<style>#sk-container-id-1 {color: black;background-color: white;}#sk-container-id-1 pre{padding: 0;}#sk-container-id-1 div.sk-toggleable {background-color: white;}#sk-container-id-1 label.sk-toggleable__label {cursor: pointer;display: block;width: 100%;margin-bottom: 0;padding: 0.3em;box-sizing: border-box;text-align: center;}#sk-container-id-1 label.sk-toggleable__label-arrow:before {content: \"▸\";float: left;margin-right: 0.25em;color: #696969;}#sk-container-id-1 label.sk-toggleable__label-arrow:hover:before {color: black;}#sk-container-id-1 div.sk-estimator:hover label.sk-toggleable__label-arrow:before {color: black;}#sk-container-id-1 div.sk-toggleable__content {max-height: 0;max-width: 0;overflow: hidden;text-align: left;background-color: #f0f8ff;}#sk-container-id-1 div.sk-toggleable__content pre {margin: 0.2em;color: black;border-radius: 0.25em;background-color: #f0f8ff;}#sk-container-id-1 input.sk-toggleable__control:checked~div.sk-toggleable__content {max-height: 200px;max-width: 100%;overflow: auto;}#sk-container-id-1 input.sk-toggleable__control:checked~label.sk-toggleable__label-arrow:before {content: \"▾\";}#sk-container-id-1 div.sk-estimator input.sk-toggleable__control:checked~label.sk-toggleable__label {background-color: #d4ebff;}#sk-container-id-1 div.sk-label input.sk-toggleable__control:checked~label.sk-toggleable__label {background-color: #d4ebff;}#sk-container-id-1 input.sk-hidden--visually {border: 0;clip: rect(1px 1px 1px 1px);clip: rect(1px, 1px, 1px, 1px);height: 1px;margin: -1px;overflow: hidden;padding: 0;position: absolute;width: 1px;}#sk-container-id-1 div.sk-estimator {font-family: monospace;background-color: #f0f8ff;border: 1px dotted black;border-radius: 0.25em;box-sizing: border-box;margin-bottom: 0.5em;}#sk-container-id-1 div.sk-estimator:hover {background-color: #d4ebff;}#sk-container-id-1 div.sk-parallel-item::after {content: \"\";width: 100%;border-bottom: 1px solid gray;flex-grow: 1;}#sk-container-id-1 div.sk-label:hover label.sk-toggleable__label {background-color: #d4ebff;}#sk-container-id-1 div.sk-serial::before {content: \"\";position: absolute;border-left: 1px solid gray;box-sizing: border-box;top: 0;bottom: 0;left: 50%;z-index: 0;}#sk-container-id-1 div.sk-serial {display: flex;flex-direction: column;align-items: center;background-color: white;padding-right: 0.2em;padding-left: 0.2em;position: relative;}#sk-container-id-1 div.sk-item {position: relative;z-index: 1;}#sk-container-id-1 div.sk-parallel {display: flex;align-items: stretch;justify-content: center;background-color: white;position: relative;}#sk-container-id-1 div.sk-item::before, #sk-container-id-1 div.sk-parallel-item::before {content: \"\";position: absolute;border-left: 1px solid gray;box-sizing: border-box;top: 0;bottom: 0;left: 50%;z-index: -1;}#sk-container-id-1 div.sk-parallel-item {display: flex;flex-direction: column;z-index: 1;position: relative;background-color: white;}#sk-container-id-1 div.sk-parallel-item:first-child::after {align-self: flex-end;width: 50%;}#sk-container-id-1 div.sk-parallel-item:last-child::after {align-self: flex-start;width: 50%;}#sk-container-id-1 div.sk-parallel-item:only-child::after {width: 0;}#sk-container-id-1 div.sk-dashed-wrapped {border: 1px dashed gray;margin: 0 0.4em 0.5em 0.4em;box-sizing: border-box;padding-bottom: 0.4em;background-color: white;}#sk-container-id-1 div.sk-label label {font-family: monospace;font-weight: bold;display: inline-block;line-height: 1.2em;}#sk-container-id-1 div.sk-label-container {text-align: center;}#sk-container-id-1 div.sk-container {/* jupyter's `normalize.less` sets `[hidden] { display: none; }` but bootstrap.min.css set `[hidden] { display: none !important; }` so we also need the `!important` here to be able to override the default hidden behavior on the sphinx rendered scikit-learn.org. See: https://github.com/scikit-learn/scikit-learn/issues/21755 */display: inline-block !important;position: relative;}#sk-container-id-1 div.sk-text-repr-fallback {display: none;}</style><div id=\"sk-container-id-1\" class=\"sk-top-container\"><div class=\"sk-text-repr-fallback\"><pre>RandomForestClassifier(random_state=0)</pre><b>In a Jupyter environment, please rerun this cell to show the HTML representation or trust the notebook. <br />On GitHub, the HTML representation is unable to render, please try loading this page with nbviewer.org.</b></div><div class=\"sk-container\" hidden><div class=\"sk-item\"><div class=\"sk-estimator sk-toggleable\"><input class=\"sk-toggleable__control sk-hidden--visually\" id=\"sk-estimator-id-1\" type=\"checkbox\" checked><label for=\"sk-estimator-id-1\" class=\"sk-toggleable__label sk-toggleable__label-arrow\">RandomForestClassifier</label><div class=\"sk-toggleable__content\"><pre>RandomForestClassifier(random_state=0)</pre></div></div></div></div></div>"
      ],
      "text/plain": [
       "RandomForestClassifier(random_state=0)"
      ]
     },
     "execution_count": 4,
     "metadata": {},
     "output_type": "execute_result"
    }
   ],
   "source": [
    "for j, dir_ in enumerate([train_dir, val_dir]):\n",
    "    features = []\n",
    "    labels = []\n",
    "    for category in os.listdir(dir_):\n",
    "        category_path = os.path.join(dir_, category)\n",
    "        for img_name in os.listdir(category_path):\n",
    "            img_path = os.path.join(category_path, img_name)\n",
    "            img = Image.open(img_path)\n",
    "\n",
    "            # Convert image to RGB if it's grayscale\n",
    "            if img.mode != 'RGB':\n",
    "                img = img.convert('RGB')\n",
    "\n",
    "            # Assuming img2vec.get_vec is a function that converts image to vector\n",
    "            img_features = img2vec.get_vec(img)\n",
    "\n",
    "            features.append(img_features)\n",
    "            labels.append(category)\n",
    "\n",
    "    if j == 0:\n",
    "        data['training_data'] = features\n",
    "        data['training_labels'] = labels\n",
    "    else:\n",
    "        data['validation_data'] = features\n",
    "        data['validation_labels'] = labels\n",
    "# train model\n",
    "\n",
    "model = RandomForestClassifier(random_state=0)\n",
    "model.fit(data['training_data'], data['training_labels'])\n"
   ]
  },
  {
   "cell_type": "code",
   "execution_count": 5,
   "id": "fb872b67-4ba8-482e-be2e-ecc5b56b0907",
   "metadata": {},
   "outputs": [
    {
     "name": "stdout",
     "output_type": "stream",
     "text": [
      "0.55\n"
     ]
    }
   ],
   "source": [
    "\n",
    "\n",
    "# test performance\n",
    "y_pred = model.predict(data['validation_data'])\n",
    "score = accuracy_score(y_pred, data['validation_labels'])\n",
    "\n",
    "print(score)\n",
    "\n"
   ]
  },
  {
   "cell_type": "code",
   "execution_count": 6,
   "id": "a51ad5c9-8849-4a30-ba9d-53ea3fca1672",
   "metadata": {},
   "outputs": [],
   "source": [
    "# save the model\n",
    "with open('./model.p', 'wb') as f:\n",
    "    pickle.dump(model, f)\n",
    "    f.close()"
   ]
  },
  {
   "cell_type": "code",
   "execution_count": null,
   "id": "e89a4928-f21b-4ef5-bea4-8156d5ffa974",
   "metadata": {},
   "outputs": [],
   "source": []
  }
 ],
 "metadata": {
  "kernelspec": {
   "display_name": "Python 3 (ipykernel)",
   "language": "python",
   "name": "python3"
  },
  "language_info": {
   "codemirror_mode": {
    "name": "ipython",
    "version": 3
   },
   "file_extension": ".py",
   "mimetype": "text/x-python",
   "name": "python",
   "nbconvert_exporter": "python",
   "pygments_lexer": "ipython3",
   "version": "3.11.7"
  }
 },
 "nbformat": 4,
 "nbformat_minor": 5
}
