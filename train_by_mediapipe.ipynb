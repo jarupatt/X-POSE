{
 "cells": [
  {
   "cell_type": "code",
   "id": "d4bd292b-2bbb-4b26-a761-ec32a4cf237b",
   "metadata": {
    "ExecuteTime": {
     "end_time": "2024-10-31T10:01:22.009843Z",
     "start_time": "2024-10-31T10:00:12.380262Z"
    }
   },
   "source": [
    "import os\n",
    "import pickle\n",
    "import numpy as np\n",
    "from PIL import Image\n",
    "import mediapipe as mp\n",
    "from sklearn.ensemble import RandomForestClassifier\n",
    "from sklearn.metrics import accuracy_score\n",
    "\n",
    "# Initialize Mediapipe\n",
    "mp_pose = mp.solutions.pose\n",
    "pose = mp_pose.Pose(static_image_mode=True)\n",
    "\n",
    "# Prepare Data\n",
    "data_dir = './data2'\n",
    "train_dir = os.path.join(data_dir, 'train')\n",
    "val_dir = os.path.join(data_dir, 'val')\n",
    "\n",
    "data = {}\n",
    "\n",
    "# Extract Pose Landmarks\n",
    "def extract_landmarks(image_path):\n",
    "    img = Image.open(image_path)\n",
    "    img_rgb = img.convert('RGB')\n",
    "    results = pose.process(np.array(img_rgb))\n",
    "    if results.pose_landmarks:\n",
    "        return np.array([[landmark.x, landmark.y, landmark.z] for landmark in results.pose_landmarks.landmark]).flatten()\n",
    "    else:\n",
    "        return None\n",
    "\n",
    "for j, dir_ in enumerate([train_dir, val_dir]):\n",
    "    features = []\n",
    "    labels = []\n",
    "    for category in os.listdir(dir_):\n",
    "        category_path = os.path.join(dir_, category)\n",
    "        for img_name in os.listdir(category_path):\n",
    "            img_path = os.path.join(category_path, img_name)\n",
    "            pose_features = extract_landmarks(img_path)\n",
    "            if pose_features is not None:\n",
    "                features.append(pose_features)\n",
    "                labels.append(category)\n",
    "\n",
    "    if j == 0:\n",
    "        data['training_data'] = features\n",
    "        data['training_labels'] = labels\n",
    "    else:\n",
    "        data['validation_data'] = features\n",
    "        data['validation_labels'] = labels\n",
    "\n",
    "# Train Model\n",
    "model = RandomForestClassifier(random_state=0)\n",
    "model.fit(data['training_data'], data['training_labels'])\n",
    "\n",
    "# Evaluate Model\n",
    "y_pred = model.predict(data['validation_data'])\n",
    "score = accuracy_score(y_pred, data['validation_labels'])\n",
    "print(score)\n",
    "\n",
    "# Save the Model\n",
    "with open('exercise_model.pkl', 'wb') as f:\n",
    "    pickle.dump(model, f)"
   ],
   "outputs": [
    {
     "name": "stderr",
     "output_type": "stream",
     "text": [
      "WARNING: All log messages before absl::InitializeLog() is called are written to STDERR\n",
      "I0000 00:00:1730368819.992031 10553129 gl_context.cc:357] GL version: 2.1 (2.1 Metal - 89.3), renderer: Apple M2\n",
      "INFO: Created TensorFlow Lite XNNPACK delegate for CPU.\n",
      "/Library/Frameworks/Python.framework/Versions/3.12/lib/python3.12/site-packages/google/protobuf/symbol_database.py:55: UserWarning: SymbolDatabase.GetPrototype() is deprecated. Please use message_factory.GetMessageClass() instead. SymbolDatabase.GetPrototype() will be removed soon.\n",
      "  warnings.warn('SymbolDatabase.GetPrototype() is deprecated. Please '\n"
     ]
    },
    {
     "name": "stdout",
     "output_type": "stream",
     "text": [
      "0.8172043010752689\n"
     ]
    }
   ],
   "execution_count": 1
  },
  {
   "cell_type": "code",
   "id": "b6aadbdb-3fda-4e58-ade8-3ff01f61803d",
   "metadata": {
    "ExecuteTime": {
     "end_time": "2024-10-31T10:02:26.281467Z",
     "start_time": "2024-10-31T10:02:26.017693Z"
    }
   },
   "source": [
    "from sklearn.svm import SVC\n",
    "svm_model = SVC(kernel='linear', probability=True, random_state=0)\n",
    "svm_model.fit(data['training_data'], data['training_labels'])\n",
    "\n",
    "# Evaluate SVM Model\n",
    "y_pred_svm = svm_model.predict(data['validation_data'])\n",
    "score_svm = accuracy_score(y_pred_svm, data['validation_labels'])\n",
    "print(f'SVM Model Accuracy: {score_svm}')\n",
    "\n",
    "# Save the SVM Model\n",
    "with open('exercise_svm_model.pkl', 'wb') as f:\n",
    "    pickle.dump(svm_model, f)"
   ],
   "outputs": [
    {
     "name": "stdout",
     "output_type": "stream",
     "text": [
      "SVM Model Accuracy: 0.7526881720430108\n"
     ]
    }
   ],
   "execution_count": 2
  },
  {
   "cell_type": "code",
   "id": "65a797df-dcb6-430e-951d-0f9384b35073",
   "metadata": {
    "ExecuteTime": {
     "end_time": "2024-10-31T10:02:40.042870Z",
     "start_time": "2024-10-31T10:02:34.627414Z"
    }
   },
   "source": [
    "from sklearn.neural_network import MLPClassifier\n",
    "\n",
    "# Train Neural Network Model\n",
    "nn_model = MLPClassifier(hidden_layer_sizes=(100,), max_iter=500, random_state=0)\n",
    "nn_model.fit(data['training_data'], data['training_labels'])\n",
    "\n",
    "# Evaluate Neural Network Model\n",
    "y_pred_nn = nn_model.predict(data['validation_data'])\n",
    "score_nn = accuracy_score(y_pred_nn, data['validation_labels'])\n",
    "print(f'Neural Network Model Accuracy: {score_nn}')\n",
    "\n",
    "# Save the Neural Network Model\n",
    "with open('exercise_nn_model.pkl', 'wb') as f:\n",
    "    pickle.dump(nn_model, f)"
   ],
   "outputs": [
    {
     "name": "stdout",
     "output_type": "stream",
     "text": [
      "Neural Network Model Accuracy: 0.8279569892473119\n"
     ]
    },
    {
     "name": "stderr",
     "output_type": "stream",
     "text": [
      "/Library/Frameworks/Python.framework/Versions/3.12/lib/python3.12/site-packages/sklearn/neural_network/_multilayer_perceptron.py:690: ConvergenceWarning: Stochastic Optimizer: Maximum iterations (500) reached and the optimization hasn't converged yet.\n",
      "  warnings.warn(\n"
     ]
    }
   ],
   "execution_count": 3
  }
 ],
 "metadata": {
  "kernelspec": {
   "display_name": "Python 3 (ipykernel)",
   "language": "python",
   "name": "python3"
  },
  "language_info": {
   "codemirror_mode": {
    "name": "ipython",
    "version": 3
   },
   "file_extension": ".py",
   "mimetype": "text/x-python",
   "name": "python",
   "nbconvert_exporter": "python",
   "pygments_lexer": "ipython3",
   "version": "3.11.7"
  }
 },
 "nbformat": 4,
 "nbformat_minor": 5
}
