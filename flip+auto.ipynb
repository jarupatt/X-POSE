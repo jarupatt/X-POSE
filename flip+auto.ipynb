{
 "cells": [
  {
   "cell_type": "code",
   "execution_count": 4,
   "id": "0c7839de-e914-42d2-88a1-32f6c51c2d3d",
   "metadata": {},
   "outputs": [
    {
     "name": "stderr",
     "output_type": "stream",
     "text": [
      "C:\\Users\\ideapad GAMING\\AppData\\Local\\Temp\\ipykernel_4792\\1659876271.py:25: DeprecationWarning: Conversion of an array with ndim > 0 to a scalar is deprecated, and will error in future. Ensure you extract a single element from your array before performing this operation. (Deprecated NumPy 1.25.)\n",
      "  accumulator = [float(hist[0])]\n",
      "C:\\Users\\ideapad GAMING\\AppData\\Local\\Temp\\ipykernel_4792\\1659876271.py:27: DeprecationWarning: Conversion of an array with ndim > 0 to a scalar is deprecated, and will error in future. Ensure you extract a single element from your array before performing this operation. (Deprecated NumPy 1.25.)\n",
      "  accumulator.append(accumulator[index - 1] + float(hist[index]))\n"
     ]
    },
    {
     "name": "stdout",
     "output_type": "stream",
     "text": [
      "Image processing completed. Adjusted images saved in './data2/train'.\n"
     ]
    }
   ],
   "source": [
    "import os\n",
    "import cv2\n",
    "import shutil\n",
    "import mediapipe as mp\n",
    "import numpy as np\n",
    "\n",
    "# Initialize Mediapipe\n",
    "mp_pose = mp.solutions.pose\n",
    "pose = mp_pose.Pose(static_image_mode=True)\n",
    "\n",
    "# Prepare Data\n",
    "data_dir = './data2'\n",
    "train_dir = os.path.join(data_dir, 'train')\n",
    "input_folders = ['tricep pushdown']\n",
    "\n",
    "# Create train directory if it doesn't exist\n",
    "if not os.path.exists(train_dir):\n",
    "    os.makedirs(train_dir)\n",
    "\n",
    "# Function for automatic brightness and contrast adjustment\n",
    "def automatic_brightness_contrast(image, clip_hist_percent=1):\n",
    "    gray = cv2.cvtColor(image, cv2.COLOR_BGR2GRAY)\n",
    "    hist = cv2.calcHist([gray], [0], None, [256], [0, 256])\n",
    "    hist_size = len(hist)\n",
    "    accumulator = [float(hist[0])]\n",
    "    for index in range(1, hist_size):\n",
    "        accumulator.append(accumulator[index - 1] + float(hist[index]))\n",
    "    maximum = accumulator[-1]\n",
    "    clip_hist_percent *= (maximum / 100.0) / 2.0\n",
    "    minimum_gray = 0\n",
    "    while accumulator[minimum_gray] < clip_hist_percent:\n",
    "        minimum_gray += 1\n",
    "    maximum_gray = hist_size - 1\n",
    "    while accumulator[maximum_gray] >= (maximum - clip_hist_percent):\n",
    "        maximum_gray -= 1\n",
    "    alpha = 255 / (maximum_gray - minimum_gray)\n",
    "    beta = -minimum_gray * alpha\n",
    "    auto_result = cv2.convertScaleAbs(image, alpha=alpha, beta=beta)\n",
    "    return auto_result\n",
    "\n",
    "# Process images from input folders\n",
    "for folder in input_folders:\n",
    "    folder_path = os.path.join('.', folder)\n",
    "    output_folder_path = os.path.join(train_dir, folder)\n",
    "\n",
    "    # Create output subdirectory for the current folder if it doesn't exist\n",
    "    if not os.path.exists(output_folder_path):\n",
    "        os.makedirs(output_folder_path)\n",
    "\n",
    "    for image_name in os.listdir(folder_path):\n",
    "        image_path = os.path.join(folder_path, image_name)\n",
    "        image = cv2.imread(image_path)\n",
    "        if image is None:\n",
    "            continue  # Skip files that are not images\n",
    "\n",
    "        # Flip the image horizontally (for classification)\n",
    "        flipped_image = cv2.flip(image, 1)\n",
    "\n",
    "        # Save the original image to the training set\n",
    "        shutil.copy(image_path, output_folder_path)\n",
    "\n",
    "        ### Apply automatic brightness and contrast adjustment\n",
    "        adjusted_image = automatic_brightness_contrast(flipped_image)\n",
    "\n",
    "        #flipped_image_path = os.path.join(output_folder_path, f\"flipped_{image_name}\")\n",
    "        #cv2.imwrite(flipped_image_path, flipped_image)\n",
    "        \n",
    "        ### Save the adjusted image to the training set\n",
    "        adjusted_image_path = os.path.join(output_folder_path, f\"adjusted_{image_name}\")\n",
    "        cv2.imwrite(adjusted_image_path, adjusted_image)\n",
    "\n",
    "print(\"Image processing completed. Adjusted images saved in './data2/train'.\")"
   ]
  }
 ],
 "metadata": {
  "kernelspec": {
   "display_name": "Python 3 (ipykernel)",
   "language": "python",
   "name": "python3"
  },
  "language_info": {
   "codemirror_mode": {
    "name": "ipython",
    "version": 3
   },
   "file_extension": ".py",
   "mimetype": "text/x-python",
   "name": "python",
   "nbconvert_exporter": "python",
   "pygments_lexer": "ipython3",
   "version": "3.11.7"
  }
 },
 "nbformat": 4,
 "nbformat_minor": 5
}
