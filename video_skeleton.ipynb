{
 "cells": [
  {
   "cell_type": "code",
   "execution_count": 2,
   "id": "ea6d3c9a-40d9-48ce-a81c-d84a598d3c10",
   "metadata": {},
   "outputs": [
    {
     "name": "stdout",
     "output_type": "stream",
     "text": [
      "Processing completed.\n"
     ]
    }
   ],
   "source": [
    "import cv2\n",
    "import mediapipe as mp\n",
    "import os\n",
    "\n",
    "# Initialize Mediapipe\n",
    "mp_drawing = mp.solutions.drawing_utils\n",
    "mp_pose = mp.solutions.pose\n",
    "pose = mp_pose.Pose(static_image_mode=False, min_detection_confidence=0.5, min_tracking_confidence=0.5)\n",
    "\n",
    "# Folder containing the videos\n",
    "input_folder = 'vid'\n",
    "\n",
    "# Get the list of video files in the folder\n",
    "video_files = [f for f in os.listdir(input_folder) if f.endswith('.mp4')]\n",
    "\n",
    "for video_file in video_files:\n",
    "    # Open the video file\n",
    "    cap = cv2.VideoCapture(os.path.join(input_folder, video_file))\n",
    "    \n",
    "    # Extract the base name and the video number\n",
    "    video_name = os.path.splitext(video_file)[0]\n",
    "    base_name = video_name.split('_')[0]\n",
    "\n",
    "    # Create the output folder based on the base name if it doesn't exist\n",
    "    output_folder = os.path.join('processed_frames', base_name)\n",
    "    if not os.path.exists(output_folder):\n",
    "        os.makedirs(output_folder)\n",
    "    \n",
    "    # Calculate FPS change\n",
    "    original_fps = cap.get(cv2.CAP_PROP_FPS)\n",
    "    frame_skip = max(1, round(original_fps / 15))\n",
    "\n",
    "    frame_idx = 0\n",
    "    yyy = 1\n",
    "    while cap.isOpened():\n",
    "        ret, frame = cap.read()\n",
    "        if not ret:\n",
    "            break  # Exit if the video ends\n",
    "        \n",
    "        # Process every nth frame to adjust the FPS\n",
    "        if frame_idx % frame_skip == 0:\n",
    "            # Convert the frame to RGB for Mediapipe processing\n",
    "            frame_rgb = cv2.cvtColor(frame, cv2.COLOR_BGR2RGB)\n",
    "\n",
    "            # Process the frame for pose detection\n",
    "            pose_results = pose.process(frame_rgb)\n",
    "\n",
    "            # Check if landmarks are detected\n",
    "            if pose_results.pose_landmarks:\n",
    "                # Draw the skeleton on the frame\n",
    "                mp_drawing.draw_landmarks(frame, pose_results.pose_landmarks, mp_pose.POSE_CONNECTIONS)\n",
    "            \n",
    "            # Save the frame with the specified naming convention\n",
    "            output_frame_path = os.path.join(output_folder, f\"{video_name}_{yyy}.jpg\")\n",
    "            cv2.imwrite(output_frame_path, frame)\n",
    "            yyy += 1\n",
    "        \n",
    "        frame_idx += 1\n",
    "\n",
    "    cap.release()\n",
    "\n",
    "print(\"Processing completed.\")\n"
   ]
  }
 ],
 "metadata": {
  "kernelspec": {
   "display_name": "Python 3 (ipykernel)",
   "language": "python",
   "name": "python3"
  },
  "language_info": {
   "codemirror_mode": {
    "name": "ipython",
    "version": 3
   },
   "file_extension": ".py",
   "mimetype": "text/x-python",
   "name": "python",
   "nbconvert_exporter": "python",
   "pygments_lexer": "ipython3",
   "version": "3.11.7"
  }
 },
 "nbformat": 4,
 "nbformat_minor": 5
}
