{
 "cells": [
  {
   "cell_type": "code",
   "execution_count": 9,
   "id": "7da2b8c6-f187-494f-bdea-cf3fdcc9e0ca",
   "metadata": {
    "scrolled": true
   },
   "outputs": [],
   "source": [
    "#!pip install opencv-python\n",
    "#!pip install mediapipe\n",
    "import cv2\n",
    "import mediapipe as mp\n",
    "import os\n",
    "\n",
    "# Initialize drawing and pose detection utilities\n",
    "mp_drawing = mp.solutions.drawing_utils\n",
    "mp_pose = mp.solutions.pose\n",
    "\n",
    "pose = mp_pose.Pose(min_detection_confidence=0.5, min_tracking_confidence=0.5)\n",
    "# Create output directory if it doesn't exist\n",
    "if not os.path.exists('tricep pushdown sk'):\n",
    "    os.makedirs('tricep pushdown sk')\n",
    "\n",
    "\n"
   ]
  },
  {
   "cell_type": "code",
   "execution_count": 10,
   "id": "6590c283-56ad-4519-bc07-440b08754b84",
   "metadata": {},
   "outputs": [
    {
     "name": "stdout",
     "output_type": "stream",
     "text": [
      "Pose estimation completed and results saved in 'opbicep' folder.\n"
     ]
    }
   ],
   "source": [
    "#skeleton\n",
    "for image_name in os.listdir('tricep pushdown'):\n",
    "    # Construct the full image path\n",
    "    image_path = os.path.join('tricep pushdown', image_name)\n",
    "    \n",
    "    # Read the image\n",
    "    image = cv2.imread(image_path)\n",
    "    \n",
    "    if image is None:\n",
    "        continue  # Skip files that are not images\n",
    "    \n",
    "    # Resize the image for portrait orientation (optional)\n",
    "    #image = cv2.resize(image, (350, 600))\n",
    "    \n",
    "    # Convert the image to RGB\n",
    "    image_rgb = cv2.cvtColor(image, cv2.COLOR_BGR2RGB)\n",
    "    \n",
    "    # Process the image for pose detection\n",
    "    pose_results = pose.process(image_rgb)\n",
    "    \n",
    "    # Draw skeleton on the image\n",
    "    if pose_results.pose_landmarks:\n",
    "        mp_drawing.draw_landmarks(image, pose_results.pose_landmarks, mp_pose.POSE_CONNECTIONS)\n",
    "    \n",
    "    # Construct the output image path\n",
    "    output_path = os.path.join('tricep pushdown sk', image_name)\n",
    "    \n",
    "    # Save the output image\n",
    "    cv2.imwrite(output_path, image)\n",
    "\n",
    "print(\"Pose estimation completed and results saved in 'opbicep' folder.\")\n"
   ]
  },
  {
   "cell_type": "code",
   "execution_count": 16,
   "id": "4dd5d3e9-5c56-49f6-9102-3c4a3a3e1486",
   "metadata": {},
   "outputs": [
    {
     "name": "stdout",
     "output_type": "stream",
     "text": [
      "Image flipping completed. Results saved in 'squat_flip' folder.\n"
     ]
    }
   ],
   "source": [
    "#flip horizontal\n",
    "\n",
    "for image_name in os.listdir('shoulder press'):\n",
    "    # Construct the full image path\n",
    "    image_path = os.path.join('shoulder press', image_name)\n",
    "    \n",
    "    # Read the image\n",
    "    image = cv2.imread(image_path)\n",
    "    \n",
    "    if image is None:\n",
    "        continue  # Skip files that are not images\n",
    "    \n",
    "    # Flip the image horizontally\n",
    "    flipped_image = cv2.flip(image, 1)\n",
    "    \n",
    "    # Create the new filename with \"_flip\" appended\n",
    "    base_name, ext = os.path.splitext(image_name)\n",
    "    new_image_name = f\"{base_name}_flip{ext}\"\n",
    "    output_path = os.path.join('shoulder press flip', new_image_name)\n",
    "    \n",
    "    # Save the flipped image\n",
    "    cv2.imwrite(output_path, flipped_image)\n",
    "\n",
    "print(\"Image flipping completed. Results saved in 'squat_flip' folder.\")"
   ]
  },
  {
   "cell_type": "code",
   "execution_count": 18,
   "id": "9869aacb-d4aa-4829-915f-fcd2bf797495",
   "metadata": {},
   "outputs": [
    {
     "name": "stderr",
     "output_type": "stream",
     "text": [
      "C:\\Users\\ideapad GAMING\\AppData\\Local\\Temp\\ipykernel_12228\\2234324481.py:10: DeprecationWarning: Conversion of an array with ndim > 0 to a scalar is deprecated, and will error in future. Ensure you extract a single element from your array before performing this operation. (Deprecated NumPy 1.25.)\n",
      "  accumulator = [float(hist[0])]\n",
      "C:\\Users\\ideapad GAMING\\AppData\\Local\\Temp\\ipykernel_12228\\2234324481.py:12: DeprecationWarning: Conversion of an array with ndim > 0 to a scalar is deprecated, and will error in future. Ensure you extract a single element from your array before performing this operation. (Deprecated NumPy 1.25.)\n",
      "  accumulator.append(accumulator[index - 1] + float(hist[index]))\n"
     ]
    },
    {
     "name": "stdout",
     "output_type": "stream",
     "text": [
      "Automatic brightness and contrast adjustment completed. Results saved in 'bicep_flip_contras' folder with '_auto_adjusted' appended to filenames.\n"
     ]
    }
   ],
   "source": [
    "#auto_contrast \n",
    "\n",
    "def automatic_brightness_contrast(image, clip_hist_percent=1):\n",
    "    gray = cv2.cvtColor(image, cv2.COLOR_BGR2GRAY)\n",
    "\n",
    "    # Calculate grayscale histogram\n",
    "    hist = cv2.calcHist([gray], [0], None, [256], [0, 256])\n",
    "    hist_size = len(hist)\n",
    "\n",
    "    # Calculate cumulative distribution from the histogram\n",
    "    accumulator = [float(hist[0])]\n",
    "    for index in range(1, hist_size):\n",
    "        accumulator.append(accumulator[index - 1] + float(hist[index]))\n",
    "\n",
    "    # Locate points to clip based on clip_hist_percent\n",
    "    maximum = accumulator[-1]\n",
    "    clip_hist_percent *= (maximum / 100.0) / 2.0\n",
    "\n",
    "    # Find left and right histogram cutoff points\n",
    "    minimum_gray = 0\n",
    "    while accumulator[minimum_gray] < clip_hist_percent:\n",
    "        minimum_gray += 1\n",
    "\n",
    "    maximum_gray = hist_size - 1\n",
    "    while accumulator[maximum_gray] >= (maximum - clip_hist_percent):\n",
    "        maximum_gray -= 1\n",
    "\n",
    "    # Calculate alpha and beta for brightness and contrast\n",
    "    alpha = 255 / (maximum_gray - minimum_gray)\n",
    "    beta = -minimum_gray * alpha\n",
    "\n",
    "    # Apply the brightness and contrast adjustment\n",
    "    auto_result = cv2.convertScaleAbs(image, alpha=alpha, beta=beta)\n",
    "    return auto_result\n",
    "\n",
    "# Create output directory if it doesn't exist\n",
    "\n",
    "# Process each image in the 'data' folder\n",
    "for image_name in os.listdir('shoulder press'):\n",
    "    # Construct the full image path\n",
    "    image_path = os.path.join('shoulder press', image_name)\n",
    "    \n",
    "    # Read the image\n",
    "    image = cv2.imread(image_path)\n",
    "    if image is None:\n",
    "        continue  # Skip files that are not images\n",
    "    \n",
    "    # Apply automatic brightness and contrast adjustment\n",
    "    adjusted_image = automatic_brightness_contrast(image)\n",
    "    \n",
    "    # Create the new filename with \"_auto_adjusted\" appended\n",
    "    base_name, ext = os.path.splitext(image_name)\n",
    "    new_image_name = f\"{base_name}_auto_adjusted{ext}\"\n",
    "    output_path = os.path.join('shoulder press con', new_image_name)\n",
    "    \n",
    "    # Save the adjusted image\n",
    "    cv2.imwrite(output_path, adjusted_image)\n",
    "\n",
    "print(\"Automatic brightness and contrast adjustment completed. Results saved in 'bicep_flip_contras' folder with '_auto_adjusted' appended to filenames.\")"
   ]
  },
  {
   "cell_type": "code",
   "execution_count": null,
   "id": "50b161b0-3f5f-4587-a6d7-1943d12d2841",
   "metadata": {},
   "outputs": [],
   "source": []
  }
 ],
 "metadata": {
  "kernelspec": {
   "display_name": "Python 3 (ipykernel)",
   "language": "python",
   "name": "python3"
  },
  "language_info": {
   "codemirror_mode": {
    "name": "ipython",
    "version": 3
   },
   "file_extension": ".py",
   "mimetype": "text/x-python",
   "name": "python",
   "nbconvert_exporter": "python",
   "pygments_lexer": "ipython3",
   "version": "3.11.7"
  }
 },
 "nbformat": 4,
 "nbformat_minor": 5
}
