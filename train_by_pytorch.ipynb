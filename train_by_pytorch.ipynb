{
 "cells": [
  {
   "cell_type": "code",
   "id": "cf535e00-b7d5-44a0-9c14-7081207a824d",
   "metadata": {
    "scrolled": true
   },
   "source": [
    "#%pip install img2vec-pytorch\n",
    "import os\n",
    "import pickle\n",
    "\n",
    "from img2vec_pytorch import Img2Vec\n",
    "from PIL import Image\n",
    "from sklearn.ensemble import RandomForestClassifier\n",
    "from sklearn.metrics import accuracy_score\n",
    "\n",
    "\n",
    "# prepare data\n",
    "\n",
    "img2vec = Img2Vec()\n",
    "\n",
    "data_dir = './data2'\n",
    "train_dir = os.path.join(data_dir, 'train')\n",
    "val_dir = os.path.join(data_dir, 'val')\n",
    "\n",
    "data = {}\n"
   ],
   "outputs": [],
   "execution_count": null
  },
  {
   "cell_type": "code",
   "id": "9e488840-c81a-4bbd-a17c-c78d260ceed9",
   "metadata": {},
   "source": [
    "for j, dir_ in enumerate([train_dir, val_dir]):\n",
    "    features = []\n",
    "    labels = []\n",
    "    for category in os.listdir(dir_):\n",
    "        category_path = os.path.join(dir_, category)\n",
    "        for img_name in os.listdir(category_path):\n",
    "            img_path = os.path.join(category_path, img_name)\n",
    "            img = Image.open(img_path)\n",
    "\n",
    "            # Convert image to RGB if it's grayscale\n",
    "            if img.mode != 'RGB':\n",
    "                img = img.convert('RGB')\n",
    "\n",
    "            # Assuming img2vec.get_vec is a function that converts image to vector\n",
    "            img_features = img2vec.get_vec(img)\n",
    "\n",
    "            features.append(img_features)\n",
    "            labels.append(category)\n",
    "\n",
    "    if j == 0:\n",
    "        data['training_data'] = features\n",
    "        data['training_labels'] = labels\n",
    "    else:\n",
    "        data['validation_data'] = features\n",
    "        data['validation_labels'] = labels\n",
    "# train model\n",
    "\n",
    "model = RandomForestClassifier(random_state=0)\n",
    "model.fit(data['training_data'], data['training_labels'])\n"
   ],
   "outputs": [],
   "execution_count": null
  },
  {
   "cell_type": "code",
   "id": "fb872b67-4ba8-482e-be2e-ecc5b56b0907",
   "metadata": {},
   "source": [
    "\n",
    "\n",
    "# test performance\n",
    "y_pred = model.predict(data['validation_data'])\n",
    "score = accuracy_score(y_pred, data['validation_labels'])\n",
    "\n",
    "print(score)\n",
    "\n"
   ],
   "outputs": [],
   "execution_count": null
  },
  {
   "cell_type": "code",
   "id": "a51ad5c9-8849-4a30-ba9d-53ea3fca1672",
   "metadata": {},
   "source": [
    "# save the model\n",
    "#with open('./model.p', 'wb') as f:\n",
    "    #pickle.dump(model, f)\n",
    "    #f.close()\n",
    "with open('exercise_model.pkl', 'wb') as f:\n",
    "    pickle.dump(model, f)"
   ],
   "outputs": [],
   "execution_count": null
  },
  {
   "cell_type": "code",
   "id": "e89a4928-f21b-4ef5-bea4-8156d5ffa974",
   "metadata": {},
   "source": [],
   "outputs": [],
   "execution_count": null
  }
 ],
 "metadata": {
  "kernelspec": {
   "display_name": "Python 3 (ipykernel)",
   "language": "python",
   "name": "python3"
  },
  "language_info": {
   "codemirror_mode": {
    "name": "ipython",
    "version": 3
   },
   "file_extension": ".py",
   "mimetype": "text/x-python",
   "name": "python",
   "nbconvert_exporter": "python",
   "pygments_lexer": "ipython3",
   "version": "3.11.7"
  }
 },
 "nbformat": 4,
 "nbformat_minor": 5
}
